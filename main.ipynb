{
 "cells": [
  {
   "cell_type": "markdown",
   "id": "583f57a0",
   "metadata": {},
   "source": [
    "### Setup & experimentation"
   ]
  },
  {
   "cell_type": "code",
   "execution_count": 1,
   "id": "c544f31f",
   "metadata": {},
   "outputs": [],
   "source": [
    "from franz.openrdf.connect import ag_connect\n",
    "import pandas as pd\n",
    "from pandas import DataFrame\n",
    "from openai import OpenAI"
   ]
  },
  {
   "cell_type": "code",
   "execution_count": 2,
   "id": "c99c272b",
   "metadata": {},
   "outputs": [
    {
     "name": "stdout",
     "output_type": "stream",
     "text": [
      "Number of statements: 2035\n"
     ]
    }
   ],
   "source": [
    "# Connect to AllegroGraph server\n",
    "conn = ag_connect(\"intellikgraph\")\n",
    "print(\"Number of statements:\", conn.size())"
   ]
  },
  {
   "cell_type": "code",
   "execution_count": 3,
   "id": "1f4e0d08",
   "metadata": {},
   "outputs": [
    {
     "data": {
      "text/html": [
       "<div>\n",
       "<style scoped>\n",
       "    .dataframe tbody tr th:only-of-type {\n",
       "        vertical-align: middle;\n",
       "    }\n",
       "\n",
       "    .dataframe tbody tr th {\n",
       "        vertical-align: top;\n",
       "    }\n",
       "\n",
       "    .dataframe thead th {\n",
       "        text-align: right;\n",
       "    }\n",
       "</style>\n",
       "<table border=\"1\" class=\"dataframe\">\n",
       "  <thead>\n",
       "    <tr style=\"text-align: right;\">\n",
       "      <th></th>\n",
       "      <th>encounter</th>\n",
       "      <th>start</th>\n",
       "      <th>end</th>\n",
       "      <th>zone</th>\n",
       "    </tr>\n",
       "  </thead>\n",
       "  <tbody>\n",
       "    <tr>\n",
       "      <th>0</th>\n",
       "      <td>&lt;http://example.org/maritime#Encounter_V014_1&gt;</td>\n",
       "      <td>2025-06-20 18:30:00+00:00</td>\n",
       "      <td>2025-06-20 20:30:00+00:00</td>\n",
       "      <td>&lt;http://example.org/maritime#Zone_NO_EEZ&gt;</td>\n",
       "    </tr>\n",
       "    <tr>\n",
       "      <th>1</th>\n",
       "      <td>&lt;http://example.org/maritime#Encounter_V011_1&gt;</td>\n",
       "      <td>2025-06-23 02:00:00+00:00</td>\n",
       "      <td>2025-06-23 04:00:00+00:00</td>\n",
       "      <td>&lt;http://example.org/maritime#Zone_US_EEZ&gt;</td>\n",
       "    </tr>\n",
       "  </tbody>\n",
       "</table>\n",
       "</div>"
      ],
      "text/plain": [
       "                                        encounter                     start  \\\n",
       "0  <http://example.org/maritime#Encounter_V014_1> 2025-06-20 18:30:00+00:00   \n",
       "1  <http://example.org/maritime#Encounter_V011_1> 2025-06-23 02:00:00+00:00   \n",
       "\n",
       "                        end                                       zone  \n",
       "0 2025-06-20 20:30:00+00:00  <http://example.org/maritime#Zone_NO_EEZ>  \n",
       "1 2025-06-23 04:00:00+00:00  <http://example.org/maritime#Zone_US_EEZ>  "
      ]
     },
     "execution_count": 3,
     "metadata": {},
     "output_type": "execute_result"
    }
   ],
   "source": [
    "# Execute example query & store in Pandas DataFrame\n",
    "query = \"\"\"\n",
    "    SELECT ?encounter ?start ?end ?zone \n",
    "    WHERE {\n",
    "    ?encounter a :EncounterEvent ;\n",
    "        :involvesVessel :V014 ;\n",
    "        :startTime ?start ;\n",
    "        :endTime ?end ;\n",
    "        :occurredIn ?zone \n",
    "    }\n",
    "\"\"\"\n",
    "\n",
    "with conn.executeTupleQuery(query) as result:\n",
    "    df = result.toPandas()\n",
    "df.head()"
   ]
  },
  {
   "cell_type": "code",
   "execution_count": 4,
   "id": "f15ecf58",
   "metadata": {},
   "outputs": [],
   "source": [
    "PATTERN = r\".*#(\\w+)>\""
   ]
  },
  {
   "cell_type": "markdown",
   "id": "d506dfdd",
   "metadata": {},
   "source": [
    "### Define methods for knowledge retrieval"
   ]
  },
  {
   "cell_type": "code",
   "execution_count": 5,
   "id": "6e50b869",
   "metadata": {},
   "outputs": [],
   "source": [
    "def extract_events(ship: str, event_type: str) -> DataFrame:\n",
    "    \"\"\"Returns a series of events involving given ship\"\"\"\n",
    "\n",
    "    query = f\"\"\"\n",
    "        SELECT ?event\n",
    "        WHERE {{\n",
    "            ?event a :{event_type} ;\n",
    "                :involvesVessel :{ship} \n",
    "        }}\n",
    "    \"\"\"\n",
    "    with conn.executeTupleQuery(query) as result:\n",
    "        df = result.toPandas()\n",
    "    \n",
    "    if df.empty:\n",
    "        return pd.Series([])\n",
    "    \n",
    "    events = df[\"event\"].str.extract(PATTERN, expand = False)\n",
    "    \n",
    "    return events"
   ]
  },
  {
   "cell_type": "code",
   "execution_count": 6,
   "id": "5404cb49",
   "metadata": {},
   "outputs": [
    {
     "data": {
      "text/plain": [
       "0    Encounter_V014_1\n",
       "1    Encounter_V011_1\n",
       "Name: event, dtype: object"
      ]
     },
     "execution_count": 6,
     "metadata": {},
     "output_type": "execute_result"
    }
   ],
   "source": [
    "extract_events(\"V014\", \"EncounterEvent\")"
   ]
  },
  {
   "cell_type": "code",
   "execution_count": 7,
   "id": "682a91cd",
   "metadata": {},
   "outputs": [],
   "source": [
    "def event_info(event: str) -> DataFrame:\n",
    "    \"\"\"\n",
    "    Returns a DataFrame with info about a given event\n",
    "    Returned columns: start time, end time, vessels involved, \n",
    "    \"\"\"\n",
    "\n",
    "    query = f\"\"\"\n",
    "        SELECT ?start ?end ?vessel ?zone ?latitude ?longitude\n",
    "        WHERE {{\n",
    "            :{event}\n",
    "                :startTime ?start ;\n",
    "                :endTime ?end ;\n",
    "                :involvesVessel ?vessel ;\n",
    "                :occurredIn ?zone ;\n",
    "                :latitude ?latitude ;\n",
    "                :longitude ?longitude \n",
    "        }}\n",
    "    \"\"\"\n",
    "    with conn.executeTupleQuery(query) as result:\n",
    "        df = result.toPandas()\n",
    "\n",
    "    vessels = df[\"vessel\"].str.extract(PATTERN, expand = False)\n",
    "    df = df.loc[[0], [\"start\", \"end\", \"zone\", \"latitude\", \"longitude\"]]\n",
    "    df[\"vessels\"] = [vessels.values]\n",
    "    \n",
    "    return df"
   ]
  },
  {
   "cell_type": "code",
   "execution_count": 8,
   "id": "2a4beec2",
   "metadata": {},
   "outputs": [
    {
     "data": {
      "text/html": [
       "<div>\n",
       "<style scoped>\n",
       "    .dataframe tbody tr th:only-of-type {\n",
       "        vertical-align: middle;\n",
       "    }\n",
       "\n",
       "    .dataframe tbody tr th {\n",
       "        vertical-align: top;\n",
       "    }\n",
       "\n",
       "    .dataframe thead th {\n",
       "        text-align: right;\n",
       "    }\n",
       "</style>\n",
       "<table border=\"1\" class=\"dataframe\">\n",
       "  <thead>\n",
       "    <tr style=\"text-align: right;\">\n",
       "      <th></th>\n",
       "      <th>start</th>\n",
       "      <th>end</th>\n",
       "      <th>zone</th>\n",
       "      <th>latitude</th>\n",
       "      <th>longitude</th>\n",
       "      <th>vessels</th>\n",
       "    </tr>\n",
       "  </thead>\n",
       "  <tbody>\n",
       "    <tr>\n",
       "      <th>0</th>\n",
       "      <td>2025-06-20 18:30:00+00:00</td>\n",
       "      <td>2025-06-20 20:30:00+00:00</td>\n",
       "      <td>&lt;http://example.org/maritime#Zone_NO_EEZ&gt;</td>\n",
       "      <td>64.0</td>\n",
       "      <td>6.9</td>\n",
       "      <td>[V018, V014]</td>\n",
       "    </tr>\n",
       "  </tbody>\n",
       "</table>\n",
       "</div>"
      ],
      "text/plain": [
       "                      start                       end  \\\n",
       "0 2025-06-20 18:30:00+00:00 2025-06-20 20:30:00+00:00   \n",
       "\n",
       "                                        zone latitude longitude       vessels  \n",
       "0  <http://example.org/maritime#Zone_NO_EEZ>     64.0       6.9  [V018, V014]  "
      ]
     },
     "execution_count": 8,
     "metadata": {},
     "output_type": "execute_result"
    }
   ],
   "source": [
    "event_info(\"Encounter_V014_1\")"
   ]
  },
  {
   "cell_type": "code",
   "execution_count": 9,
   "id": "4de76459",
   "metadata": {},
   "outputs": [],
   "source": [
    "def ship_info(ship: str) -> DataFrame:\n",
    "    \"\"\"\n",
    "    Returns a dataframe with info about a given ship\n",
    "    Returned columns: name, type, call sign, country, owner\n",
    "    \"\"\"\n",
    "\n",
    "    query = f\"\"\"\n",
    "        SELECT ?name ?type ?call_sign ?country ?owner\n",
    "        WHERE {{\n",
    "            :{ship}\n",
    "                rdfs:label ?name ;\n",
    "                :type ?type ;\n",
    "                :callsign ?call_sign ;\n",
    "                :flagState ?country ;\n",
    "                :ownedBy ?owner\n",
    "        }}\n",
    "    \"\"\"\n",
    "    with conn.executeTupleQuery(query) as result:\n",
    "        df = result.toPandas()\n",
    "    return df"
   ]
  },
  {
   "cell_type": "code",
   "execution_count": 10,
   "id": "d2946a03",
   "metadata": {},
   "outputs": [
    {
     "data": {
      "text/html": [
       "<div>\n",
       "<style scoped>\n",
       "    .dataframe tbody tr th:only-of-type {\n",
       "        vertical-align: middle;\n",
       "    }\n",
       "\n",
       "    .dataframe tbody tr th {\n",
       "        vertical-align: top;\n",
       "    }\n",
       "\n",
       "    .dataframe thead th {\n",
       "        text-align: right;\n",
       "    }\n",
       "</style>\n",
       "<table border=\"1\" class=\"dataframe\">\n",
       "  <thead>\n",
       "    <tr style=\"text-align: right;\">\n",
       "      <th></th>\n",
       "      <th>name</th>\n",
       "      <th>type</th>\n",
       "      <th>call_sign</th>\n",
       "      <th>country</th>\n",
       "      <th>owner</th>\n",
       "    </tr>\n",
       "  </thead>\n",
       "  <tbody>\n",
       "    <tr>\n",
       "      <th>0</th>\n",
       "      <td>RV Arctic Dawn</td>\n",
       "      <td>research</td>\n",
       "      <td>LNAD</td>\n",
       "      <td>&lt;http://example.org/maritime#Country_NO&gt;</td>\n",
       "      <td>&lt;http://example.org/maritime#PelagosResearch&gt;</td>\n",
       "    </tr>\n",
       "  </tbody>\n",
       "</table>\n",
       "</div>"
      ],
      "text/plain": [
       "             name      type call_sign  \\\n",
       "0  RV Arctic Dawn  research      LNAD   \n",
       "\n",
       "                                    country  \\\n",
       "0  <http://example.org/maritime#Country_NO>   \n",
       "\n",
       "                                           owner  \n",
       "0  <http://example.org/maritime#PelagosResearch>  "
      ]
     },
     "execution_count": 10,
     "metadata": {},
     "output_type": "execute_result"
    }
   ],
   "source": [
    "ship_info(\"V014\")"
   ]
  },
  {
   "cell_type": "code",
   "execution_count": 11,
   "id": "fee5044f",
   "metadata": {},
   "outputs": [],
   "source": [
    "def country_info(country: str) -> DataFrame:\n",
    "    \"\"\"\n",
    "    Returns a dataframe with info about given country\n",
    "    Returned columns: country name\n",
    "    \"\"\"\n",
    "\n",
    "    query = f\"\"\"\n",
    "        SELECT ?name\n",
    "        WHERE {{\n",
    "            :{country}\n",
    "                rdfs:label ?name\n",
    "        }}\n",
    "    \"\"\"\n",
    "\n",
    "    with conn.executeTupleQuery(query) as result:\n",
    "        df = result.toPandas()\n",
    "    return df"
   ]
  },
  {
   "cell_type": "code",
   "execution_count": 12,
   "id": "e41167a5",
   "metadata": {},
   "outputs": [
    {
     "data": {
      "text/html": [
       "<div>\n",
       "<style scoped>\n",
       "    .dataframe tbody tr th:only-of-type {\n",
       "        vertical-align: middle;\n",
       "    }\n",
       "\n",
       "    .dataframe tbody tr th {\n",
       "        vertical-align: top;\n",
       "    }\n",
       "\n",
       "    .dataframe thead th {\n",
       "        text-align: right;\n",
       "    }\n",
       "</style>\n",
       "<table border=\"1\" class=\"dataframe\">\n",
       "  <thead>\n",
       "    <tr style=\"text-align: right;\">\n",
       "      <th></th>\n",
       "      <th>name</th>\n",
       "    </tr>\n",
       "  </thead>\n",
       "  <tbody>\n",
       "    <tr>\n",
       "      <th>0</th>\n",
       "      <td>Norway</td>\n",
       "    </tr>\n",
       "  </tbody>\n",
       "</table>\n",
       "</div>"
      ],
      "text/plain": [
       "     name\n",
       "0  Norway"
      ]
     },
     "execution_count": 12,
     "metadata": {},
     "output_type": "execute_result"
    }
   ],
   "source": [
    "country_info(\"Country_NO\")"
   ]
  },
  {
   "cell_type": "code",
   "execution_count": 13,
   "id": "c29ba7d9",
   "metadata": {},
   "outputs": [],
   "source": [
    "def owner_info(owner: str) -> DataFrame:\n",
    "    \"\"\"\n",
    "    Returns a dataframe with info about given vessel owner\n",
    "    Returned columns: name, country\n",
    "    Each row represents an instance of a ship owned by the owner\n",
    "    \"\"\"\n",
    "\n",
    "    query = f\"\"\"\n",
    "        SELECT ?name ?country\n",
    "        WHERE {{\n",
    "            :{owner}\n",
    "                rdfs:label ?name ;\n",
    "                :countryOfIncorporation ?country\n",
    "        }}\n",
    "    \"\"\"\n",
    "    with conn.executeTupleQuery(query) as result:\n",
    "        df = result.toPandas()\n",
    "    return df"
   ]
  },
  {
   "cell_type": "code",
   "execution_count": 14,
   "id": "fea19c7f",
   "metadata": {},
   "outputs": [
    {
     "data": {
      "text/html": [
       "<div>\n",
       "<style scoped>\n",
       "    .dataframe tbody tr th:only-of-type {\n",
       "        vertical-align: middle;\n",
       "    }\n",
       "\n",
       "    .dataframe tbody tr th {\n",
       "        vertical-align: top;\n",
       "    }\n",
       "\n",
       "    .dataframe thead th {\n",
       "        text-align: right;\n",
       "    }\n",
       "</style>\n",
       "<table border=\"1\" class=\"dataframe\">\n",
       "  <thead>\n",
       "    <tr style=\"text-align: right;\">\n",
       "      <th></th>\n",
       "      <th>name</th>\n",
       "      <th>country</th>\n",
       "    </tr>\n",
       "  </thead>\n",
       "  <tbody>\n",
       "    <tr>\n",
       "      <th>0</th>\n",
       "      <td>PacificLines</td>\n",
       "      <td>&lt;http://example.org/maritime#Country_MH&gt;</td>\n",
       "    </tr>\n",
       "    <tr>\n",
       "      <th>1</th>\n",
       "      <td>PacificLines</td>\n",
       "      <td>&lt;http://example.org/maritime#Country_MH&gt;</td>\n",
       "    </tr>\n",
       "    <tr>\n",
       "      <th>2</th>\n",
       "      <td>PacificLines</td>\n",
       "      <td>&lt;http://example.org/maritime#Country_MH&gt;</td>\n",
       "    </tr>\n",
       "    <tr>\n",
       "      <th>3</th>\n",
       "      <td>PacificLines</td>\n",
       "      <td>&lt;http://example.org/maritime#Country_MH&gt;</td>\n",
       "    </tr>\n",
       "    <tr>\n",
       "      <th>4</th>\n",
       "      <td>PacificLines</td>\n",
       "      <td>&lt;http://example.org/maritime#Country_RU&gt;</td>\n",
       "    </tr>\n",
       "    <tr>\n",
       "      <th>5</th>\n",
       "      <td>PacificLines</td>\n",
       "      <td>&lt;http://example.org/maritime#Country_RU&gt;</td>\n",
       "    </tr>\n",
       "    <tr>\n",
       "      <th>6</th>\n",
       "      <td>PacificLines</td>\n",
       "      <td>&lt;http://example.org/maritime#Country_RU&gt;</td>\n",
       "    </tr>\n",
       "    <tr>\n",
       "      <th>7</th>\n",
       "      <td>PacificLines</td>\n",
       "      <td>&lt;http://example.org/maritime#Country_RU&gt;</td>\n",
       "    </tr>\n",
       "    <tr>\n",
       "      <th>8</th>\n",
       "      <td>PacificLines</td>\n",
       "      <td>&lt;http://example.org/maritime#Country_CN&gt;</td>\n",
       "    </tr>\n",
       "    <tr>\n",
       "      <th>9</th>\n",
       "      <td>PacificLines</td>\n",
       "      <td>&lt;http://example.org/maritime#Country_CN&gt;</td>\n",
       "    </tr>\n",
       "    <tr>\n",
       "      <th>10</th>\n",
       "      <td>PacificLines</td>\n",
       "      <td>&lt;http://example.org/maritime#Country_CN&gt;</td>\n",
       "    </tr>\n",
       "    <tr>\n",
       "      <th>11</th>\n",
       "      <td>PacificLines</td>\n",
       "      <td>&lt;http://example.org/maritime#Country_CN&gt;</td>\n",
       "    </tr>\n",
       "    <tr>\n",
       "      <th>12</th>\n",
       "      <td>PacificLines</td>\n",
       "      <td>&lt;http://example.org/maritime#Country_MH&gt;</td>\n",
       "    </tr>\n",
       "    <tr>\n",
       "      <th>13</th>\n",
       "      <td>PacificLines</td>\n",
       "      <td>&lt;http://example.org/maritime#Country_MH&gt;</td>\n",
       "    </tr>\n",
       "    <tr>\n",
       "      <th>14</th>\n",
       "      <td>PacificLines</td>\n",
       "      <td>&lt;http://example.org/maritime#Country_MH&gt;</td>\n",
       "    </tr>\n",
       "    <tr>\n",
       "      <th>15</th>\n",
       "      <td>PacificLines</td>\n",
       "      <td>&lt;http://example.org/maritime#Country_MH&gt;</td>\n",
       "    </tr>\n",
       "  </tbody>\n",
       "</table>\n",
       "</div>"
      ],
      "text/plain": [
       "            name                                   country\n",
       "0   PacificLines  <http://example.org/maritime#Country_MH>\n",
       "1   PacificLines  <http://example.org/maritime#Country_MH>\n",
       "2   PacificLines  <http://example.org/maritime#Country_MH>\n",
       "3   PacificLines  <http://example.org/maritime#Country_MH>\n",
       "4   PacificLines  <http://example.org/maritime#Country_RU>\n",
       "5   PacificLines  <http://example.org/maritime#Country_RU>\n",
       "6   PacificLines  <http://example.org/maritime#Country_RU>\n",
       "7   PacificLines  <http://example.org/maritime#Country_RU>\n",
       "8   PacificLines  <http://example.org/maritime#Country_CN>\n",
       "9   PacificLines  <http://example.org/maritime#Country_CN>\n",
       "10  PacificLines  <http://example.org/maritime#Country_CN>\n",
       "11  PacificLines  <http://example.org/maritime#Country_CN>\n",
       "12  PacificLines  <http://example.org/maritime#Country_MH>\n",
       "13  PacificLines  <http://example.org/maritime#Country_MH>\n",
       "14  PacificLines  <http://example.org/maritime#Country_MH>\n",
       "15  PacificLines  <http://example.org/maritime#Country_MH>"
      ]
     },
     "execution_count": 14,
     "metadata": {},
     "output_type": "execute_result"
    }
   ],
   "source": [
    "owner_info(\"PacificLines\")"
   ]
  },
  {
   "cell_type": "code",
   "execution_count": 15,
   "id": "701f31ab",
   "metadata": {},
   "outputs": [],
   "source": [
    "def zone_info(zone: str) -> DataFrame:\n",
    "    \"\"\"\n",
    "    Returns a dataframe with info about given zone\n",
    "    Returned columns: name, geometry\n",
    "    \"\"\"\n",
    "\n",
    "    query = f\"\"\"\n",
    "        PREFIX geo: <http://www.opengis.net/ont/geosparql#> \n",
    "        SELECT ?name ?geometry\n",
    "        WHERE {{\n",
    "            :{zone}\n",
    "                rdfs:label ?name ;\n",
    "                geo:hasGeometry ?geometry\n",
    "        }}\n",
    "    \"\"\"\n",
    "    with conn.executeTupleQuery(query) as result:\n",
    "        df = result.toPandas()\n",
    "    return df"
   ]
  },
  {
   "cell_type": "code",
   "execution_count": 16,
   "id": "ab89b16d",
   "metadata": {},
   "outputs": [
    {
     "data": {
      "text/html": [
       "<div>\n",
       "<style scoped>\n",
       "    .dataframe tbody tr th:only-of-type {\n",
       "        vertical-align: middle;\n",
       "    }\n",
       "\n",
       "    .dataframe tbody tr th {\n",
       "        vertical-align: top;\n",
       "    }\n",
       "\n",
       "    .dataframe thead th {\n",
       "        text-align: right;\n",
       "    }\n",
       "</style>\n",
       "<table border=\"1\" class=\"dataframe\">\n",
       "  <thead>\n",
       "    <tr style=\"text-align: right;\">\n",
       "      <th></th>\n",
       "      <th>name</th>\n",
       "      <th>geometry</th>\n",
       "    </tr>\n",
       "  </thead>\n",
       "  <tbody>\n",
       "    <tr>\n",
       "      <th>0</th>\n",
       "      <td>United States EEZ</td>\n",
       "      <td>_:b99221FAFx590</td>\n",
       "    </tr>\n",
       "  </tbody>\n",
       "</table>\n",
       "</div>"
      ],
      "text/plain": [
       "                name         geometry\n",
       "0  United States EEZ  _:b99221FAFx590"
      ]
     },
     "execution_count": 16,
     "metadata": {},
     "output_type": "execute_result"
    }
   ],
   "source": [
    "zone_info(\"Zone_US_EEZ\")"
   ]
  },
  {
   "cell_type": "markdown",
   "id": "a82cb056",
   "metadata": {},
   "source": [
    "Example 1: explain event \"Encounter_V014_1\". This is an encounter event between vessels V014 and V018 in Norway."
   ]
  },
  {
   "cell_type": "code",
   "execution_count": 17,
   "id": "3326923c",
   "metadata": {},
   "outputs": [
    {
     "data": {
      "text/html": [
       "<div>\n",
       "<style scoped>\n",
       "    .dataframe tbody tr th:only-of-type {\n",
       "        vertical-align: middle;\n",
       "    }\n",
       "\n",
       "    .dataframe tbody tr th {\n",
       "        vertical-align: top;\n",
       "    }\n",
       "\n",
       "    .dataframe thead th {\n",
       "        text-align: right;\n",
       "    }\n",
       "</style>\n",
       "<table border=\"1\" class=\"dataframe\">\n",
       "  <thead>\n",
       "    <tr style=\"text-align: right;\">\n",
       "      <th></th>\n",
       "      <th>start</th>\n",
       "      <th>end</th>\n",
       "      <th>zone</th>\n",
       "      <th>latitude</th>\n",
       "      <th>longitude</th>\n",
       "      <th>vessels</th>\n",
       "    </tr>\n",
       "  </thead>\n",
       "  <tbody>\n",
       "    <tr>\n",
       "      <th>0</th>\n",
       "      <td>2025-06-20 18:30:00+00:00</td>\n",
       "      <td>2025-06-20 20:30:00+00:00</td>\n",
       "      <td>&lt;http://example.org/maritime#Zone_NO_EEZ&gt;</td>\n",
       "      <td>64.0</td>\n",
       "      <td>6.9</td>\n",
       "      <td>[V018, V014]</td>\n",
       "    </tr>\n",
       "  </tbody>\n",
       "</table>\n",
       "</div>"
      ],
      "text/plain": [
       "                      start                       end  \\\n",
       "0 2025-06-20 18:30:00+00:00 2025-06-20 20:30:00+00:00   \n",
       "\n",
       "                                        zone latitude longitude       vessels  \n",
       "0  <http://example.org/maritime#Zone_NO_EEZ>     64.0       6.9  [V018, V014]  "
      ]
     },
     "execution_count": 17,
     "metadata": {},
     "output_type": "execute_result"
    }
   ],
   "source": [
    "# extract basic info\n",
    "event = \"Encounter_V014_1\"\n",
    "event_summary = event_info(event)\n",
    "event_summary"
   ]
  },
  {
   "cell_type": "code",
   "execution_count": 18,
   "id": "f3fcebff",
   "metadata": {},
   "outputs": [
    {
     "data": {
      "text/html": [
       "<div>\n",
       "<style scoped>\n",
       "    .dataframe tbody tr th:only-of-type {\n",
       "        vertical-align: middle;\n",
       "    }\n",
       "\n",
       "    .dataframe tbody tr th {\n",
       "        vertical-align: top;\n",
       "    }\n",
       "\n",
       "    .dataframe thead th {\n",
       "        text-align: right;\n",
       "    }\n",
       "</style>\n",
       "<table border=\"1\" class=\"dataframe\">\n",
       "  <thead>\n",
       "    <tr style=\"text-align: right;\">\n",
       "      <th></th>\n",
       "      <th>name</th>\n",
       "      <th>type</th>\n",
       "      <th>call_sign</th>\n",
       "      <th>country</th>\n",
       "      <th>owner</th>\n",
       "    </tr>\n",
       "  </thead>\n",
       "  <tbody>\n",
       "    <tr>\n",
       "      <th>0</th>\n",
       "      <td>MS Baltic Pearl</td>\n",
       "      <td>passenger</td>\n",
       "      <td>LNBP</td>\n",
       "      <td>&lt;http://example.org/maritime#Country_NO&gt;</td>\n",
       "      <td>&lt;http://example.org/maritime#NordicFerries&gt;</td>\n",
       "    </tr>\n",
       "  </tbody>\n",
       "</table>\n",
       "</div>"
      ],
      "text/plain": [
       "              name       type call_sign  \\\n",
       "0  MS Baltic Pearl  passenger      LNBP   \n",
       "\n",
       "                                    country  \\\n",
       "0  <http://example.org/maritime#Country_NO>   \n",
       "\n",
       "                                         owner  \n",
       "0  <http://example.org/maritime#NordicFerries>  "
      ]
     },
     "metadata": {},
     "output_type": "display_data"
    },
    {
     "data": {
      "text/html": [
       "<div>\n",
       "<style scoped>\n",
       "    .dataframe tbody tr th:only-of-type {\n",
       "        vertical-align: middle;\n",
       "    }\n",
       "\n",
       "    .dataframe tbody tr th {\n",
       "        vertical-align: top;\n",
       "    }\n",
       "\n",
       "    .dataframe thead th {\n",
       "        text-align: right;\n",
       "    }\n",
       "</style>\n",
       "<table border=\"1\" class=\"dataframe\">\n",
       "  <thead>\n",
       "    <tr style=\"text-align: right;\">\n",
       "      <th></th>\n",
       "      <th>name</th>\n",
       "      <th>type</th>\n",
       "      <th>call_sign</th>\n",
       "      <th>country</th>\n",
       "      <th>owner</th>\n",
       "    </tr>\n",
       "  </thead>\n",
       "  <tbody>\n",
       "    <tr>\n",
       "      <th>0</th>\n",
       "      <td>RV Arctic Dawn</td>\n",
       "      <td>research</td>\n",
       "      <td>LNAD</td>\n",
       "      <td>&lt;http://example.org/maritime#Country_NO&gt;</td>\n",
       "      <td>&lt;http://example.org/maritime#PelagosResearch&gt;</td>\n",
       "    </tr>\n",
       "  </tbody>\n",
       "</table>\n",
       "</div>"
      ],
      "text/plain": [
       "             name      type call_sign  \\\n",
       "0  RV Arctic Dawn  research      LNAD   \n",
       "\n",
       "                                    country  \\\n",
       "0  <http://example.org/maritime#Country_NO>   \n",
       "\n",
       "                                           owner  \n",
       "0  <http://example.org/maritime#PelagosResearch>  "
      ]
     },
     "metadata": {},
     "output_type": "display_data"
    }
   ],
   "source": [
    "# extract vessels involved\n",
    "vessels = event_summary[\"vessels\"].iloc[0]\n",
    "for vessel in vessels:\n",
    "    display(ship_info(vessel))"
   ]
  },
  {
   "cell_type": "code",
   "execution_count": 19,
   "id": "d9e63f8b",
   "metadata": {},
   "outputs": [
    {
     "data": {
      "text/html": [
       "<div>\n",
       "<style scoped>\n",
       "    .dataframe tbody tr th:only-of-type {\n",
       "        vertical-align: middle;\n",
       "    }\n",
       "\n",
       "    .dataframe tbody tr th {\n",
       "        vertical-align: top;\n",
       "    }\n",
       "\n",
       "    .dataframe thead th {\n",
       "        text-align: right;\n",
       "    }\n",
       "</style>\n",
       "<table border=\"1\" class=\"dataframe\">\n",
       "  <thead>\n",
       "    <tr style=\"text-align: right;\">\n",
       "      <th></th>\n",
       "      <th>start</th>\n",
       "      <th>end</th>\n",
       "      <th>zone</th>\n",
       "      <th>latitude</th>\n",
       "      <th>longitude</th>\n",
       "      <th>vessels</th>\n",
       "    </tr>\n",
       "  </thead>\n",
       "  <tbody>\n",
       "    <tr>\n",
       "      <th>0</th>\n",
       "      <td>2025-06-08 03:00:00+00:00</td>\n",
       "      <td>2025-06-08 06:00:00+00:00</td>\n",
       "      <td>&lt;http://example.org/maritime#Zone_NO_EEZ&gt;</td>\n",
       "      <td>63.4</td>\n",
       "      <td>9.1</td>\n",
       "      <td>[V014]</td>\n",
       "    </tr>\n",
       "  </tbody>\n",
       "</table>\n",
       "</div>"
      ],
      "text/plain": [
       "                      start                       end  \\\n",
       "0 2025-06-08 03:00:00+00:00 2025-06-08 06:00:00+00:00   \n",
       "\n",
       "                                        zone latitude longitude vessels  \n",
       "0  <http://example.org/maritime#Zone_NO_EEZ>     63.4       9.1  [V014]  "
      ]
     },
     "metadata": {},
     "output_type": "display_data"
    },
    {
     "data": {
      "text/html": [
       "<div>\n",
       "<style scoped>\n",
       "    .dataframe tbody tr th:only-of-type {\n",
       "        vertical-align: middle;\n",
       "    }\n",
       "\n",
       "    .dataframe tbody tr th {\n",
       "        vertical-align: top;\n",
       "    }\n",
       "\n",
       "    .dataframe thead th {\n",
       "        text-align: right;\n",
       "    }\n",
       "</style>\n",
       "<table border=\"1\" class=\"dataframe\">\n",
       "  <thead>\n",
       "    <tr style=\"text-align: right;\">\n",
       "      <th></th>\n",
       "      <th>start</th>\n",
       "      <th>end</th>\n",
       "      <th>zone</th>\n",
       "      <th>latitude</th>\n",
       "      <th>longitude</th>\n",
       "      <th>vessels</th>\n",
       "    </tr>\n",
       "  </thead>\n",
       "  <tbody>\n",
       "    <tr>\n",
       "      <th>0</th>\n",
       "      <td>2025-06-20 18:30:00+00:00</td>\n",
       "      <td>2025-06-20 20:30:00+00:00</td>\n",
       "      <td>&lt;http://example.org/maritime#Zone_NO_EEZ&gt;</td>\n",
       "      <td>64.0</td>\n",
       "      <td>6.9</td>\n",
       "      <td>[V018, V014]</td>\n",
       "    </tr>\n",
       "  </tbody>\n",
       "</table>\n",
       "</div>"
      ],
      "text/plain": [
       "                      start                       end  \\\n",
       "0 2025-06-20 18:30:00+00:00 2025-06-20 20:30:00+00:00   \n",
       "\n",
       "                                        zone latitude longitude       vessels  \n",
       "0  <http://example.org/maritime#Zone_NO_EEZ>     64.0       6.9  [V018, V014]  "
      ]
     },
     "metadata": {},
     "output_type": "display_data"
    },
    {
     "data": {
      "text/html": [
       "<div>\n",
       "<style scoped>\n",
       "    .dataframe tbody tr th:only-of-type {\n",
       "        vertical-align: middle;\n",
       "    }\n",
       "\n",
       "    .dataframe tbody tr th {\n",
       "        vertical-align: top;\n",
       "    }\n",
       "\n",
       "    .dataframe thead th {\n",
       "        text-align: right;\n",
       "    }\n",
       "</style>\n",
       "<table border=\"1\" class=\"dataframe\">\n",
       "  <thead>\n",
       "    <tr style=\"text-align: right;\">\n",
       "      <th></th>\n",
       "      <th>start</th>\n",
       "      <th>end</th>\n",
       "      <th>zone</th>\n",
       "      <th>latitude</th>\n",
       "      <th>longitude</th>\n",
       "      <th>vessels</th>\n",
       "    </tr>\n",
       "  </thead>\n",
       "  <tbody>\n",
       "    <tr>\n",
       "      <th>0</th>\n",
       "      <td>2025-06-18 11:45:00+00:00</td>\n",
       "      <td>2025-06-18 14:45:00+00:00</td>\n",
       "      <td>&lt;http://example.org/maritime#Zone_AU_EEZ&gt;</td>\n",
       "      <td>-25.4</td>\n",
       "      <td>115.6</td>\n",
       "      <td>[V018]</td>\n",
       "    </tr>\n",
       "  </tbody>\n",
       "</table>\n",
       "</div>"
      ],
      "text/plain": [
       "                      start                       end  \\\n",
       "0 2025-06-18 11:45:00+00:00 2025-06-18 14:45:00+00:00   \n",
       "\n",
       "                                        zone latitude longitude vessels  \n",
       "0  <http://example.org/maritime#Zone_AU_EEZ>    -25.4     115.6  [V018]  "
      ]
     },
     "metadata": {},
     "output_type": "display_data"
    },
    {
     "data": {
      "text/html": [
       "<div>\n",
       "<style scoped>\n",
       "    .dataframe tbody tr th:only-of-type {\n",
       "        vertical-align: middle;\n",
       "    }\n",
       "\n",
       "    .dataframe tbody tr th {\n",
       "        vertical-align: top;\n",
       "    }\n",
       "\n",
       "    .dataframe thead th {\n",
       "        text-align: right;\n",
       "    }\n",
       "</style>\n",
       "<table border=\"1\" class=\"dataframe\">\n",
       "  <thead>\n",
       "    <tr style=\"text-align: right;\">\n",
       "      <th></th>\n",
       "      <th>start</th>\n",
       "      <th>end</th>\n",
       "      <th>zone</th>\n",
       "      <th>latitude</th>\n",
       "      <th>longitude</th>\n",
       "      <th>vessels</th>\n",
       "    </tr>\n",
       "  </thead>\n",
       "  <tbody>\n",
       "    <tr>\n",
       "      <th>0</th>\n",
       "      <td>2025-06-23 02:00:00+00:00</td>\n",
       "      <td>2025-06-23 04:00:00+00:00</td>\n",
       "      <td>&lt;http://example.org/maritime#Zone_US_EEZ&gt;</td>\n",
       "      <td>36.1</td>\n",
       "      <td>-122.4</td>\n",
       "      <td>[V014, V011]</td>\n",
       "    </tr>\n",
       "  </tbody>\n",
       "</table>\n",
       "</div>"
      ],
      "text/plain": [
       "                      start                       end  \\\n",
       "0 2025-06-23 02:00:00+00:00 2025-06-23 04:00:00+00:00   \n",
       "\n",
       "                                        zone latitude longitude       vessels  \n",
       "0  <http://example.org/maritime#Zone_US_EEZ>     36.1    -122.4  [V014, V011]  "
      ]
     },
     "metadata": {},
     "output_type": "display_data"
    },
    {
     "data": {
      "text/html": [
       "<div>\n",
       "<style scoped>\n",
       "    .dataframe tbody tr th:only-of-type {\n",
       "        vertical-align: middle;\n",
       "    }\n",
       "\n",
       "    .dataframe tbody tr th {\n",
       "        vertical-align: top;\n",
       "    }\n",
       "\n",
       "    .dataframe thead th {\n",
       "        text-align: right;\n",
       "    }\n",
       "</style>\n",
       "<table border=\"1\" class=\"dataframe\">\n",
       "  <thead>\n",
       "    <tr style=\"text-align: right;\">\n",
       "      <th></th>\n",
       "      <th>start</th>\n",
       "      <th>end</th>\n",
       "      <th>zone</th>\n",
       "      <th>latitude</th>\n",
       "      <th>longitude</th>\n",
       "      <th>vessels</th>\n",
       "    </tr>\n",
       "  </thead>\n",
       "  <tbody>\n",
       "    <tr>\n",
       "      <th>0</th>\n",
       "      <td>2025-06-21 07:00:00+00:00</td>\n",
       "      <td>2025-06-21 12:00:00+00:00</td>\n",
       "      <td>&lt;http://example.org/maritime#Zone_NO_EEZ&gt;</td>\n",
       "      <td>65.8</td>\n",
       "      <td>7.9</td>\n",
       "      <td>[V018]</td>\n",
       "    </tr>\n",
       "  </tbody>\n",
       "</table>\n",
       "</div>"
      ],
      "text/plain": [
       "                      start                       end  \\\n",
       "0 2025-06-21 07:00:00+00:00 2025-06-21 12:00:00+00:00   \n",
       "\n",
       "                                        zone latitude longitude vessels  \n",
       "0  <http://example.org/maritime#Zone_NO_EEZ>     65.8       7.9  [V018]  "
      ]
     },
     "metadata": {},
     "output_type": "display_data"
    }
   ],
   "source": [
    "event_types = [\"EncounterEvent\", \"LoiteringEvent\", \"FishingEvent\", \"PortVisitEvent\", \"AISGapEvent\", \"WeatherEvent\"]\n",
    "related_events = set()\n",
    "\n",
    "# extract related events\n",
    "for vessel in vessels:\n",
    "    for event_type in event_types:\n",
    "        vessel_events = extract_events(vessel, event_type)\n",
    "        for vessel_event in vessel_events:\n",
    "            related_events.add((vessel_event, event_type))\n",
    "\n",
    "for event, event_type in related_events:\n",
    "    display(event_info(event))"
   ]
  },
  {
   "cell_type": "markdown",
   "id": "be909846",
   "metadata": {},
   "source": [
    "### Compile knowledge into a JSON schema"
   ]
  },
  {
   "cell_type": "code",
   "execution_count": 20,
   "id": "58f81499",
   "metadata": {},
   "outputs": [],
   "source": [
    "# construct schema to represent a cluster of events & related entities\n",
    "from pydantic import BaseModel\n",
    "\n",
    "class Ship(BaseModel):\n",
    "    id: str \n",
    "    name: str\n",
    "    type: str\n",
    "    country: str\n",
    "    owner: str\n",
    "\n",
    "class Event(BaseModel):\n",
    "    id: str\n",
    "    type: str\n",
    "    start_time: str \n",
    "    end_time: str\n",
    "    zone: str \n",
    "    latitude: str\n",
    "    longitude: str \n",
    "    actors: list[Ship]\n",
    "\n",
    "class Cluster(BaseModel):\n",
    "    main_event: Event\n",
    "    related_events: list[Event]"
   ]
  },
  {
   "cell_type": "code",
   "execution_count": 45,
   "id": "9bba2009",
   "metadata": {},
   "outputs": [
    {
     "data": {
      "text/plain": [
       "Cluster(main_event=Event(id='Encounter_V014_1', type='EncounterEvent', start_time='2025-06-20 18:30:00+00:00', end_time='2025-06-20 20:30:00+00:00', zone='Norway EEZ', latitude='64.0', longitude='6.9', actors=[Ship(id='V018', name='MS Baltic Pearl', type='passenger', country='Norway', owner='NordicFerries'), Ship(id='V014', name='RV Arctic Dawn', type='research', country='Norway', owner='PelagosResearch')]), related_events=[Event(id='Loiter_V014_1', type='LoiteringEvent', start_time='2025-06-08 03:00:00+00:00', end_time='2025-06-08 06:00:00+00:00', zone='Norway EEZ', latitude='63.4', longitude='9.1', actors=[Ship(id='V014', name='RV Arctic Dawn', type='research', country='Norway', owner='PelagosResearch')]), Event(id='Loiter3', type='LoiteringEvent', start_time='2025-06-18 11:45:00+00:00', end_time='2025-06-18 14:45:00+00:00', zone='Australia EEZ', latitude='-25.4', longitude='115.6', actors=[Ship(id='V018', name='MS Baltic Pearl', type='passenger', country='Norway', owner='NordicFerries')]), Event(id='Encounter_V011_1', type='EncounterEvent', start_time='2025-06-23 02:00:00+00:00', end_time='2025-06-23 04:00:00+00:00', zone='United States EEZ', latitude='36.1', longitude='-122.4', actors=[Ship(id='V014', name='RV Arctic Dawn', type='research', country='Norway', owner='PelagosResearch'), Ship(id='V011', name='MV Samurai Wind', type='cargo', country='Japan', owner='NipponCargo')]), Event(id='PortVisit_V018_1', type='PortVisitEvent', start_time='2025-06-21 07:00:00+00:00', end_time='2025-06-21 12:00:00+00:00', zone='Norway EEZ', latitude='65.8', longitude='7.9', actors=[Ship(id='V018', name='MS Baltic Pearl', type='passenger', country='Norway', owner='NordicFerries')])])"
      ]
     },
     "execution_count": 45,
     "metadata": {},
     "output_type": "execute_result"
    }
   ],
   "source": [
    "# construct example cluster\n",
    "events = []\n",
    "\n",
    "for event, event_type in related_events:\n",
    "    event_summary = event_info(event)\n",
    "    zone_id = event_summary[\"zone\"].str.extract(PATTERN, expand = False).iloc[0]\n",
    "    actor_ids = event_summary[\"vessels\"].iloc[0]\n",
    "    actors = []\n",
    "\n",
    "    for actor_id in actor_ids:\n",
    "        ship_summary = ship_info(actor_id)\n",
    "        country_id = ship_summary[\"country\"].str.extract(PATTERN, expand = False).iloc[0]\n",
    "        owner_id = ship_summary[\"owner\"].str.extract(PATTERN, expand = False).iloc[0]\n",
    "        actors.append(\n",
    "            Ship(\n",
    "                id = actor_id, \n",
    "                name = ship_summary[\"name\"].iloc[0], \n",
    "                type = ship_summary[\"type\"].iloc[0],\n",
    "                country = country_info(country_id)[\"name\"].iloc[0],\n",
    "                owner = owner_info(owner_id)[\"name\"].iloc[0]\n",
    "            )\n",
    "        )\n",
    "\n",
    "    if event == \"Encounter_V014_1\":\n",
    "        main_event = Event(\n",
    "            id = event,\n",
    "            type = event_type,\n",
    "            start_time = event_summary[\"start\"].astype(str).iloc[0],\n",
    "            end_time = event_summary[\"end\"].astype(str).iloc[0],\n",
    "            zone = zone_info(zone_id)[\"name\"].iloc[0],\n",
    "            latitude = event_summary[\"latitude\"].astype(str).iloc[0],\n",
    "            longitude = event_summary[\"longitude\"].astype(str).iloc[0],\n",
    "            actors = actors\n",
    "        )\n",
    "    else:\n",
    "        events.append(\n",
    "            Event(\n",
    "                id = event,\n",
    "                type = event_type,\n",
    "                start_time = event_summary[\"start\"].astype(str).iloc[0],\n",
    "                end_time = event_summary[\"end\"].astype(str).iloc[0],\n",
    "                zone = zone_info(zone_id)[\"name\"].iloc[0],\n",
    "                latitude = event_summary[\"latitude\"].astype(str).iloc[0],\n",
    "                longitude = event_summary[\"longitude\"].astype(str).iloc[0],\n",
    "                actors = actors\n",
    "            )\n",
    "        )\n",
    "example_cluster = Cluster(main_event = main_event, related_events = events)\n",
    "example_cluster"
   ]
  },
  {
   "cell_type": "code",
   "execution_count": 46,
   "id": "16d7e3ac",
   "metadata": {},
   "outputs": [],
   "source": [
    "example_cluster_json = example_cluster.model_dump_json()"
   ]
  },
  {
   "cell_type": "markdown",
   "id": "629c34fe",
   "metadata": {},
   "source": [
    "### Prompt engineering"
   ]
  },
  {
   "cell_type": "code",
   "execution_count": 47,
   "id": "f82b854d",
   "metadata": {},
   "outputs": [],
   "source": [
    "client = OpenAI()"
   ]
  },
  {
   "cell_type": "code",
   "execution_count": null,
   "id": "0df91649",
   "metadata": {},
   "outputs": [],
   "source": [
    "SYSTEM_PROMPT = \"\"\"\n",
    "    You are a data scientist at a maritime research company. You are using a knowledge graph, curated from AIS data, to study the behavior of shipping vessels.\n",
    "\n",
    "    Given data in JSON format that consists of information about a main event and related events/entities, your task is the following:\n",
    "        1. Give a brief summary of this event (include information about type, actors, location, duration)\n",
    "        2. Provide a descriptions of the actors involved\n",
    "        3. Describe related events\n",
    "        4. Compile the above to identify any potential anomalies in vessel behavior (if there are no anomalies & activity is normal, explicitly state that)\n",
    "\n",
    "    Examples of anomalies:\n",
    "        1. Encounter: e.g., Coast Guard and Fishing Vessel enter same EEZ and are co-located withi.env....fffffn 1 nautical mile for > 15 minutes.\n",
    "        2. Unexplained Loitering: Vessel slows or zigzags in a region not flagged for weather, port, or declared hold pattern.\n",
    "        3. Suspicious Course Deviation: A vessel’s current predicted path significantly diverges from its historical paths under similar contexts.\n",
    "\n",
    "    Do not make any assumptions nor infer any information beyond the given data. Ensure your summaries and descriptions are in complete sentences. Each main point should have its own line.\n",
    "    Make dates and times readable, and translate latitude and longitude into geographical descriptions.\n",
    "\"\"\""
   ]
  },
  {
   "cell_type": "code",
   "execution_count": 49,
   "id": "f5221ed5",
   "metadata": {},
   "outputs": [],
   "source": [
    "res = client.beta.chat.completions.parse(\n",
    "    model = \"gpt-5\",\n",
    "    messages = [\n",
    "        {\n",
    "            \"role\": \"system\", \n",
    "            \"content\": SYSTEM_PROMPT\n",
    "        },\n",
    "        {\n",
    "            \"role\": \"user\", \n",
    "            \"content\": f\"Data: {str(example_cluster_json)}\"\n",
    "        }\n",
    "    ]\n",
    ")"
   ]
  },
  {
   "cell_type": "code",
   "execution_count": 50,
   "id": "ba10ccc5",
   "metadata": {},
   "outputs": [
    {
     "name": "stdout",
     "output_type": "stream",
     "text": [
      "Event summary:\n",
      "- The main event is an EncounterEvent between MS Baltic Pearl (V018, passenger) and RV Arctic Dawn (V014, research) in the Norway EEZ at 64.0, 6.9 from 2025-06-20 18:30:00+00:00 to 2025-06-20 20:30:00+00:00 (duration: 2 hours).\n",
      "\n",
      "Actor descriptions:\n",
      "- V018 — MS Baltic Pearl: passenger vessel, country Norway, owner NordicFerries.\n",
      "- V014 — RV Arctic Dawn: research vessel, country Norway, owner PelagosResearch.\n",
      "\n",
      "Related events:\n",
      "- Loiter_V014_1: LoiteringEvent involving RV Arctic Dawn (V014) in the Norway EEZ at 63.4, 9.1 from 2025-06-08 03:00:00+00:00 to 2025-06-08 06:00:00+00:00 (duration: 3 hours).\n",
      "- Loiter3: LoiteringEvent involving MS Baltic Pearl (V018) in the Australia EEZ at -25.4, 115.6 from 2025-06-18 11:45:00+00:00 to 2025-06-18 14:45:00+00:00 (duration: 3 hours).\n",
      "- Encounter_V011_1: EncounterEvent involving RV Arctic Dawn (V014) and MV Samurai Wind (V011, cargo, Japan, owner NipponCargo) in the United States EEZ at 36.1, -122.4 from 2025-06-23 02:00:00+00:00 to 2025-06-23 04:00:00+00:00 (duration: 2 hours).\n",
      "- PortVisit_V018_1: PortVisitEvent involving MS Baltic Pearl (V018) in the Norway EEZ at 65.8, 7.9 from 2025-06-21 07:00:00+00:00 to 2025-06-21 12:00:00+00:00 (duration: 5 hours).\n",
      "\n",
      "Potential anomalies:\n",
      "- Rapid cross-EEZ repositioning within short timeframes is recorded:\n",
      "  - MS Baltic Pearl is in the Australia EEZ on 2025-06-18 and then in the Norway EEZ on 2025-06-20–21, indicating a very large geographic shift within ~2–3 days (potential data inconsistency or unusual transit speed).\n",
      "  - RV Arctic Dawn is in the Norway EEZ on 2025-06-20 and then in the United States EEZ on 2025-06-23, indicating a very large geographic shift within ~3 days (potential data inconsistency or unusual transit speed).\n",
      "- Loitering behavior is present:\n",
      "  - MS Baltic Pearl has a 3-hour LoiteringEvent in the Australia EEZ on 2025-06-18; no cause is provided, so this could be noteworthy as potential unexplained loitering pending context.\n",
      "  - RV Arctic Dawn has a 3-hour LoiteringEvent in the Norway EEZ on 2025-06-08; no cause is specified.\n",
      "- The main EncounterEvent lasted 2 hours between a passenger and a research vessel in the Norway EEZ; this is noteworthy due to duration, but with no distance or operational context provided it is not inherently anomalous based on the given data.\n"
     ]
    }
   ],
   "source": [
    "print(res.choices[0].message.content)"
   ]
  }
 ],
 "metadata": {
  "kernelspec": {
   "display_name": "virtual_env (3.13.7)",
   "language": "python",
   "name": "python3"
  },
  "language_info": {
   "codemirror_mode": {
    "name": "ipython",
    "version": 3
   },
   "file_extension": ".py",
   "mimetype": "text/x-python",
   "name": "python",
   "nbconvert_exporter": "python",
   "pygments_lexer": "ipython3",
   "version": "3.13.7"
  }
 },
 "nbformat": 4,
 "nbformat_minor": 5
}
